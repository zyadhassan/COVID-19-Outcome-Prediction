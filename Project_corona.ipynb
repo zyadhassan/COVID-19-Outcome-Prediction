{
 "cells": [
  {
   "cell_type": "code",
   "execution_count": 19,
   "id": "f8d0452e",
   "metadata": {},
   "outputs": [],
   "source": [
    "from sklearn.linear_model import LinearRegression\n",
    "from sklearn.preprocessing import PolynomialFeatures\n",
    "from sklearn.model_selection import train_test_split\n",
    "import numpy as np\n",
    "import random\n",
    "import pandas as pd\n",
    "import matplotlib.pyplot as plt\n",
    "from sklearn.model_selection import KFold\n",
    "from sklearn.metrics import confusion_matrix\n",
    "from sklearn import metrics\n",
    "from sklearn.metrics import f1_score\n",
    "from sklearn.neighbors import KNeighborsClassifier\n",
    "from sklearn.naive_bayes import GaussianNB\n",
    "from sklearn.model_selection import cross_validate\n",
    "\n",
    "\n",
    "%matplotlib inline"
   ]
  },
  {
   "cell_type": "code",
   "execution_count": 2,
   "id": "15ab72a7",
   "metadata": {},
   "outputs": [],
   "source": [
    "names = ['index',\n",
    "         'location','country','gender',\n",
    "        'age','vis_wuhan','from_wuhan',\n",
    "        'symptom1','symptom2','symptom3',\n",
    "        'symptom4', 'symptom5', 'symptom6', 'diff_sym_hos','result']\n",
    "df=pd.read_csv(\"data.csv\",index_col=0,skiprows=1,names=names)"
   ]
  },
  {
   "cell_type": "code",
   "execution_count": 3,
   "id": "bb5250d2",
   "metadata": {},
   "outputs": [],
   "source": [
    "Y=df.result.values\n",
    "X=df[['gender',\n",
    "        'age','vis_wuhan','from_wuhan',\n",
    "        'symptom1','symptom2','symptom3',\n",
    "        'symptom4', 'symptom5', 'symptom6', 'diff_sym_hos']]\n"
   ]
  },
  {
   "cell_type": "code",
   "execution_count": 4,
   "id": "97fc5839",
   "metadata": {},
   "outputs": [
    {
     "name": "stdout",
     "output_type": "stream",
     "text": [
      "776\n",
      "863\n"
     ]
    }
   ],
   "source": [
    "xTrain, xTest, yTrain, yTest=train_test_split(X,Y,test_size=0.1,random_state=3, shuffle=True)\n",
    "print(len(xTrain))\n",
    "print(len(X))"
   ]
  },
  {
   "cell_type": "code",
   "execution_count": 5,
   "id": "304b1b23",
   "metadata": {},
   "outputs": [
    {
     "data": {
      "text/plain": [
       "[       gender   age  vis_wuhan  from_wuhan  symptom1  symptom2  symptom3  \\\n",
       " index                                                                      \n",
       " 764         0  49.4          0           0        14        31        19   \n",
       " 195         0  45.0          1           1         6         7        19   \n",
       " 58          0  32.0          1           0        14        31        19   \n",
       " 535         1  70.0          0           0        14        31        19   \n",
       " 842         1  49.4          0           0        14        31        19   \n",
       " ...       ...   ...        ...         ...       ...       ...       ...   \n",
       " 622         2  49.4          0           0        14        31        19   \n",
       " 581         1  60.0          0           1        14        31        19   \n",
       " 423         0  46.0          0           0        14        31        19   \n",
       " 119         1  44.0          1           0        14        31        19   \n",
       " 643         2  49.4          0           0        14        31        19   \n",
       " \n",
       "        symptom4  symptom5  symptom6  diff_sym_hos  \n",
       " index                                              \n",
       " 764          12         3         1             0  \n",
       " 195          12         3         1             1  \n",
       " 58           12         3         1             4  \n",
       " 535          12         3         1             0  \n",
       " 842          12         3         1             0  \n",
       " ...         ...       ...       ...           ...  \n",
       " 622          12         3         1             0  \n",
       " 581          12         3         1             0  \n",
       " 423          12         3         1             0  \n",
       " 119          12         3         1             6  \n",
       " 643          12         3         1             0  \n",
       " \n",
       " [156 rows x 11 columns],\n",
       "        gender   age  vis_wuhan  from_wuhan  symptom1  symptom2  symptom3  \\\n",
       " index                                                                      \n",
       " 861         1  49.4          0           0        14        31        19   \n",
       " 770         2  49.4          0           0        14        31        19   \n",
       " 749         1  24.0          0           0        14        31        19   \n",
       " 101         1  24.0          1           0        14        31        19   \n",
       " 689         0  65.0          0           0         6         7        19   \n",
       " ...       ...   ...        ...         ...       ...       ...       ...   \n",
       " 504         0  65.0          0           0        14        31        19   \n",
       " 660         0  64.0          0           0        14        31        19   \n",
       " 650         1  32.0          0           0        14        31        19   \n",
       " 249         1  65.0          0           0         6        27        19   \n",
       " 664         2  49.4          0           0        14        31        19   \n",
       " \n",
       "        symptom4  symptom5  symptom6  diff_sym_hos  \n",
       " index                                              \n",
       " 861          12         3         1             0  \n",
       " 770          12         3         1             0  \n",
       " 749          12         3         1             0  \n",
       " 101          12         3         1             0  \n",
       " 689          12         3         1             1  \n",
       " ...         ...       ...       ...           ...  \n",
       " 504          12         3         1             0  \n",
       " 660          12         3         1             0  \n",
       " 650          12         3         1             0  \n",
       " 249          12         3         1             4  \n",
       " 664          12         3         1             0  \n",
       " \n",
       " [155 rows x 11 columns],\n",
       "        gender   age  vis_wuhan  from_wuhan  symptom1  symptom2  symptom3  \\\n",
       " index                                                                      \n",
       " 349         1  65.0          0           0        20        12         7   \n",
       " 45          1  48.0          1           0        14        31        19   \n",
       " 523         2  49.4          0           1        14        31        19   \n",
       " 288         1  75.0          0           0         6         7        19   \n",
       " 584         1   8.0          0           1        14        31        19   \n",
       " ...       ...   ...        ...         ...       ...       ...       ...   \n",
       " 641         1  49.4          0           0        14        31        19   \n",
       " 316         0  55.0          0           0        14        31        19   \n",
       " 662         2  49.4          0           0        14        31        19   \n",
       " 605         1  33.0          0           0        14        31        19   \n",
       " 480         1  35.0          0           0        14        31        19   \n",
       " \n",
       "        symptom4  symptom5  symptom6  diff_sym_hos  \n",
       " index                                              \n",
       " 349           2         3         1             4  \n",
       " 45           12         3         1             0  \n",
       " 523          12         3         1             0  \n",
       " 288          12         3         1             1  \n",
       " 584          12         3         1             0  \n",
       " ...         ...       ...       ...           ...  \n",
       " 641          12         3         1             0  \n",
       " 316          12         3         1             0  \n",
       " 662          12         3         1             0  \n",
       " 605          12         3         1             0  \n",
       " 480          12         3         1             0  \n",
       " \n",
       " [155 rows x 11 columns],\n",
       "        gender   age  vis_wuhan  from_wuhan  symptom1  symptom2  symptom3  \\\n",
       " index                                                                      \n",
       " 378         1  57.0          0           0        14        31        19   \n",
       " 356         1  35.0          0           0         2        12         7   \n",
       " 211         1  25.0          0           1        14        31        19   \n",
       " 586         0  37.0          0           1        14        31        19   \n",
       " 41          1  63.0          0           1        14        31        19   \n",
       " ...       ...   ...        ...         ...       ...       ...       ...   \n",
       " 337         1  75.0          0           0         6         7         8   \n",
       " 398         1  55.0          1           0         9         1        19   \n",
       " 422         0  58.0          0           0        14        31        19   \n",
       " 659         1  70.0          0           0        14        31        19   \n",
       " 256         1  65.0          0           0         6        22        19   \n",
       " \n",
       "        symptom4  symptom5  symptom6  diff_sym_hos  \n",
       " index                                              \n",
       " 378          12         3         1             0  \n",
       " 356          12         3         1             3  \n",
       " 211          12         3         1             0  \n",
       " 586          12         3         1             0  \n",
       " 41           12         3         1             7  \n",
       " ...         ...       ...       ...           ...  \n",
       " 337          12         3         1             2  \n",
       " 398          12         3         1             0  \n",
       " 422          12         3         1             0  \n",
       " 659          12         3         1             0  \n",
       " 256          12         3         1             0  \n",
       " \n",
       " [155 rows x 11 columns],\n",
       "        gender   age  vis_wuhan  from_wuhan  symptom1  symptom2  symptom3  \\\n",
       " index                                                                      \n",
       " 395         1  47.0          0           0        14        31        19   \n",
       " 847         0  49.4          0           0        14        31        19   \n",
       " 103         1  34.0          0           1        14        31        19   \n",
       " 712         1  66.0          0           0        14        31        19   \n",
       " 81          1  40.0          1           0        14        31        19   \n",
       " ...       ...   ...        ...         ...       ...       ...       ...   \n",
       " 609         1  58.0          0           0        14        31        19   \n",
       " 538         2  49.4          0           0        14        31        19   \n",
       " 681         0  72.0          0           0         6         7        19   \n",
       " 714         1  75.0          0           0        14        31        19   \n",
       " 789         1  22.0          0           0        20        12        19   \n",
       " \n",
       "        symptom4  symptom5  symptom6  diff_sym_hos  \n",
       " index                                              \n",
       " 395          12         3         1             0  \n",
       " 847          12         3         1             0  \n",
       " 103          12         3         1             0  \n",
       " 712          12         3         1             1  \n",
       " 81           12         3         1             0  \n",
       " ...         ...       ...       ...           ...  \n",
       " 609          12         3         1             0  \n",
       " 538          12         3         1             0  \n",
       " 681          12         3         1             0  \n",
       " 714          12         3         1             0  \n",
       " 789          12         3         1             0  \n",
       " \n",
       " [155 rows x 11 columns]]"
      ]
     },
     "execution_count": 5,
     "metadata": {},
     "output_type": "execute_result"
    }
   ],
   "source": [
    "# Use Kfolds to split the data into 10 folds\n",
    "x_train_data_sets=list()\n",
    "y_train_data_sets=list()\n",
    "kf=KFold(n_splits=5, random_state=3, shuffle=True)\n",
    "for train_index,trainset_index in kf.split(xTrain,yTrain):\n",
    "    X_train, X_trainset = xTrain.iloc[train_index], xTrain.iloc[trainset_index]\n",
    "    x_train_data_sets.append(X_trainset)\n",
    "    y_train, y_trainset = yTrain[train_index], yTrain[trainset_index]\n",
    "    y_train_data_sets.append(y_trainset)\n",
    "x_train_data_sets\n",
    "\n"
   ]
  },
  {
   "cell_type": "markdown",
   "id": "b0b4cd43",
   "metadata": {},
   "source": [
    "# KNN"
   ]
  },
  {
   "cell_type": "code",
   "execution_count": 6,
   "id": "a18c7ae2",
   "metadata": {},
   "outputs": [
    {
     "name": "stdout",
     "output_type": "stream",
     "text": [
      "TRAINING SET  0\n",
      "0.9540229885057471  at knn  1\n",
      "TRAINING SET  1\n",
      "0.9425287356321839  at knn  3\n",
      "TRAINING SET  2\n",
      "0.9310344827586207  at knn  2\n",
      "TRAINING SET  3\n",
      "0.9310344827586207  at knn  1\n",
      "TRAINING SET  4\n",
      "0.9310344827586207  at knn  9\n"
     ]
    }
   ],
   "source": [
    "acc = []\n",
    "for i in range(5):\n",
    "    print(\"TRAINING SET \", i)\n",
    "    x = x_train_data_sets[i]  # transposing it\n",
    "    y = y_train_data_sets[i]\n",
    "    acc = []\n",
    "    for i in range(1,27):\n",
    "        knn = KNeighborsClassifier(n_neighbors=i)\n",
    "        knn.fit(x,y)\n",
    "        y_pred = knn.predict(xTest)\n",
    "        acc.append(metrics.accuracy_score(yTest,y_pred))\n",
    "    print(max(acc),\" at knn \",(acc.index(max(acc))+1))\n",
    "   "
   ]
  },
  {
   "cell_type": "code",
   "execution_count": 11,
   "id": "ea8d5757",
   "metadata": {},
   "outputs": [],
   "source": [
    "# the Best acc at k = 1\n",
    "\n",
    "knn_optimal= KNeighborsClassifier(n_neighbors=17)\n",
    "knn_optimal.fit(x_train_data_sets[0],y_train_data_sets[0])\n",
    "y_pred = knn_optimal.predict(xTest)\n",
    "\n"
   ]
  },
  {
   "cell_type": "code",
   "execution_count": 12,
   "id": "38547e65",
   "metadata": {},
   "outputs": [],
   "source": [
    "knn_confusion_metrics = confusion_matrix(yTest,y_pred)"
   ]
  },
  {
   "cell_type": "code",
   "execution_count": 13,
   "id": "b23a8659",
   "metadata": {},
   "outputs": [
    {
     "data": {
      "text/plain": [
       "array([[76,  3],\n",
       "       [ 6,  2]], dtype=int64)"
      ]
     },
     "execution_count": 13,
     "metadata": {},
     "output_type": "execute_result"
    }
   ],
   "source": [
    "knn_confusion_metrics"
   ]
  },
  {
   "cell_type": "code",
   "execution_count": 14,
   "id": "6ac3cb50",
   "metadata": {},
   "outputs": [
    {
     "data": {
      "text/plain": [
       "0.3076923076923077"
      ]
     },
     "execution_count": 14,
     "metadata": {},
     "output_type": "execute_result"
    }
   ],
   "source": [
    "f1_score(yTest,y_pred)"
   ]
  },
  {
   "cell_type": "markdown",
   "id": "445dcf9a",
   "metadata": {},
   "source": [
    "# Naive"
   ]
  },
  {
   "cell_type": "code",
   "execution_count": 24,
   "id": "178dbee1",
   "metadata": {},
   "outputs": [
    {
     "data": {
      "text/plain": [
       "GaussianNB()"
      ]
     },
     "execution_count": 24,
     "metadata": {},
     "output_type": "execute_result"
    }
   ],
   "source": [
    "from sklearn.naive_bayes import GaussianNB\n",
    "acc=[]\n",
    "gb=GaussianNB()\n",
    "cross=cross_validate(gb,xTrain,yTrain,cv=8,return_estimator=True)\n",
    "cross['estimator'][0]"
   ]
  },
  {
   "cell_type": "code",
   "execution_count": null,
   "id": "91195745",
   "metadata": {},
   "outputs": [],
   "source": [
    "#Looking on the \n",
    "x_train_s=pd.concat([xTrain[ :int((5*len(xTrain))/8) ] , xTrain[ int((6*len(xTrain))/8): ]])\n",
    "y_train_s=np.concatenate([yTrain[ :int((5*len(xTrain))/8) ] , yTrain[ int((6*len(xTrain))/8): ]])\n",
    "naive_optimal = GaussianNB()\n",
    "naive_optimal.fit(x_train_s,y_train_s)\n",
    "y_pred=naive_optimal.predict(xTrain[ int((5*len(xTrain))/8):int((6*len(xTrain))/8) ])\n",
    "print(\"acc : \",metrics.accuracy_score(yTrain[ int((5*len(xTrain))/8):int((6*len(xTrain))/8) ],y_pred))\n",
    "\n",
    "naive_confusion_metrics = confusion_matrix(yTrain[ int((5*len(xTrain))/8):int((6*len(xTrain))/8) ],y_pred)\n",
    "naive_f1_score=f1_score(yTrain[ int((5*len(xTrain))/8):int((6*len(xTrain))/8) ],y_pred)\n",
    "print(\"Confusion Metrics : \",naive_confusion_metrics)\n",
    "print(\"F1 Score : \",naive_f1_score)\n"
   ]
  },
  {
   "cell_type": "code",
   "execution_count": 17,
   "id": "53306b54",
   "metadata": {},
   "outputs": [
    {
     "name": "stdout",
     "output_type": "stream",
     "text": [
      "acc :  0.9310344827586207\n",
      "Confusion Metrics :  [[76  3]\n",
      " [ 3  5]]\n",
      "F1 Score :  0.625\n"
     ]
    }
   ],
   "source": [
    "from sklearn.linear_model import LogisticRegression\n",
    "logistic = LogisticRegression(random_state=0,solver='lbfgs', max_iter=1000)\n",
    "logistic.fit(xTrain,yTrain)\n",
    "y_pred=logistic.predict(xTest)\n",
    "logistic_confusion_metrics = confusion_matrix(yTest,y_pred)\n",
    "logistic_f1_score=f1_score(yTest,y_pred)\n",
    "print(\"acc : \",metrics.accuracy_score(yTest,y_pred))\n",
    "print(\"Confusion Metrics : \",logistic_confusion_metrics)\n",
    "print(\"F1 Score : \",logistic_f1_score)"
   ]
  },
  {
   "cell_type": "code",
   "execution_count": null,
   "id": "dc31ef1b",
   "metadata": {},
   "outputs": [],
   "source": []
  }
 ],
 "metadata": {
  "kernelspec": {
   "display_name": "Python 3 (ipykernel)",
   "language": "python",
   "name": "python3"
  },
  "language_info": {
   "codemirror_mode": {
    "name": "ipython",
    "version": 3
   },
   "file_extension": ".py",
   "mimetype": "text/x-python",
   "name": "python",
   "nbconvert_exporter": "python",
   "pygments_lexer": "ipython3",
   "version": "3.9.7"
  }
 },
 "nbformat": 4,
 "nbformat_minor": 5
}
