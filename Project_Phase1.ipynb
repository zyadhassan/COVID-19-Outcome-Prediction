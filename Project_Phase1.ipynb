
  {
   "cell_type": "code",
   "execution_count": 1,
   "id": "e5dcb24b",
   "metadata": {},
   "outputs": [],
   "source": [
    "from sklearn.linear_model import LinearRegression\n",
    "from sklearn.preprocessing import PolynomialFeatures\n",
    "from sklearn.model_selection import train_test_split\n",
    "import numpy as np\n",
    "import random\n",
    "import pandas as pd\n",
    "import matplotlib.pyplot as plt\n",
    "from sklearn.model_selection import KFold\n",
    "from sklearn.metrics import confusion_matrix\n",
    "from sklearn import metrics\n",
    "from sklearn.metrics import f1_score\n",
    "from sklearn.neighbors import KNeighborsClassifier\n",
    "from sklearn.naive_bayes import GaussianNB\n",
    "from sklearn.model_selection import cross_val_score\n",
    "from sklearn.model_selection import cross_validate\n",
    "from sklearn.metrics import precision_score\n",
    "from sklearn.metrics import recall_score\n",
    "from sklearn.metrics import roc_auc_score\n",
    "from sklearn.metrics import roc_curve, auc\n",
    "\n",
    "%matplotlib inline"
   ]
  },
  {
   "cell_type": "code",
   "execution_count": 2,
   "id": "1a3956a8",
   "metadata": {},
   "outputs": [],
   "source": [
    "names = ['index',\n",
    "         'location','country','gender',\n",
    "        'age','vis_wuhan','from_wuhan',\n",
    "        'symptom1','symptom2','symptom3',\n",
    "        'symptom4', 'symptom5', 'symptom6', 'diff_sym_hos','result']\n",
    "df=pd.read_csv(\"data.csv\",index_col=0,skiprows=1,names=names)"
   ]
  },
  {
   "cell_type": "code",
   "execution_count": 3,
   "id": "a11e3454",
   "metadata": {},
   "outputs": [],
   "source": [
    "Y=df.result.values\n",
    "X=df[ ['gender',\n",
    "        'age',\n",
    "        'symptom1','symptom2','symptom3',\n",
    "        'symptom4', 'symptom5', 'symptom6', 'diff_sym_hos']]\n"
   ]
  },
  {
   "cell_type": "code",
   "execution_count": 4,
   "id": "0cda88e8",
   "metadata": {},
   "outputs": [],
   "source": [
    "xTrain, xTest, yTrain, yTest=train_test_split(X,Y,test_size=0.2,random_state=42, shuffle=True)\n"
   ]
  },
  {
   "cell_type": "markdown",
   "id": "f5aa5993",
   "metadata": {},
   "source": [
    "# KNN "
   ]
  },
  {
   "cell_type": "code",
   "execution_count": 5,
   "id": "24a6c1a3",
   "metadata": {},
   "outputs": [
    {
     "name": "stdout",
     "output_type": "stream",
     "text": [
      "0.9421965317919075  at knn  2\n"
     ]
    }
   ],
   "source": [
    "#Optimal KNN by Score of Test Data \n",
    "acc=[]\n",
    "for i in range(1,27):\n",
    "    knn = KNeighborsClassifier(n_neighbors=i)\n",
    "    knn.fit(xTrain,yTrain)\n",
    "    y_pred = knn.predict(xTest)\n",
    "    acc.append(metrics.accuracy_score(yTest,y_pred))\n",
    "print(max(acc),\" at knn \",(acc.index(max(acc))+1))"
   ]
  },
  {
   "cell_type": "code",
   "execution_count": 6,
   "id": "cd7354de",
   "metadata": {},
   "outputs": [
    {
     "name": "stdout",
     "output_type": "stream",
     "text": [
      "[0.5625     0.25       0.64705882 0.52941176 0.58823529]\n",
      "CrossV_scores mean:0.5154411764705882\n"
     ]
    }
   ],
   "source": [
    "#KNN Classsifier \n",
    "knn_CrossV=KNeighborsClassifier(n_neighbors=4)\n",
    "#Cross Validation \n",
    "knn_CrossV=cross_validate(knn_CrossV, xTrain, yTrain, cv=5,return_estimator=True,scoring='recall')\n",
    "print(knn_CrossV['test_score'])\n",
    "print('CrossV_scores mean:{}'.format(np.mean(knn_CrossV['test_score'])))\n"
   ]
  },
  {
   "cell_type": "code",
   "execution_count": 7,
   "id": "c2595a14",
   "metadata": {},
   "outputs": [],
   "source": [
    "knn_opt_cv=knn_CrossV['estimator'][2]"
   ]
  },
  {
   "cell_type": "code",
   "execution_count": 8,
   "id": "0c27234b",
   "metadata": {},
   "outputs": [
    {
     "name": "stdout",
     "output_type": "stream",
     "text": [
      "{'n_neighbors': 7}\n",
      "Best Score :  0.6838235294117647\n"
     ]
    }
   ],
   "source": [
    "#Hyperituning Model\n",
    "from sklearn.model_selection import GridSearchCV\n",
    "grid_knn = {'n_neighbors': np.arange(1, 27)}\n",
    "knn_Optimal = GridSearchCV(knn_opt_cv,grid_knn,cv=5,scoring='recall')\n",
    "knn_Optimal.fit(xTrain, yTrain)\n",
    "print(knn_Optimal.best_params_)\n",
    "print(\"Best Score : \",knn_Optimal.best_score_)"
   ]
  },
  {
   "cell_type": "code",
   "execution_count": 9,
   "id": "efeee98e",
   "metadata": {},
   "outputs": [],
   "source": [
    "#Predict Test Data\n",
    "y_KNN_pred=knn_Optimal.predict(xTest)\n"
   ]
  },
  {
   "cell_type": "code",
   "execution_count": 10,
   "id": "cfd4c106",
   "metadata": {},
   "outputs": [
    {
     "name": "stdout",
     "output_type": "stream",
     "text": [
      "acc :  0.9190751445086706\n",
      "Confusion Metrics :  [[143   5]\n",
      " [  9  16]]\n",
      "F1 Score :  0.6956521739130435\n",
      "precision score :  0.7619047619047619\n",
      "Recall score :  0.64\n"
     ]
    },
    {
     "data": {
      "image/png": "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\n",
      "text/plain": [
       "<Figure size 432x288 with 1 Axes>"
      ]
     },
     "metadata": {
      "needs_background": "light"
     },
     "output_type": "display_data"
    }
   ],
   "source": [
    "#Metrics \n",
    "knn_confusion_metrics = confusion_matrix(yTest,y_KNN_pred)\n",
    "knn_f1_score=f1_score(yTest,y_KNN_pred)\n",
    "knn_acc=metrics.accuracy_score(yTest,y_KNN_pred)\n",
    "knn_precision_score=precision_score(yTest,y_KNN_pred)\n",
    "knn_recall_score=recall_score(yTest,y_KNN_pred)\n",
    "\n",
    "print(\"acc : \",knn_acc)\n",
    "print(\"Confusion Metrics : \",knn_confusion_metrics)\n",
    "print(\"F1 Score : \",knn_f1_score)\n",
    "print(\"precision score : \",knn_precision_score)\n",
    "print(\"Recall score : \",knn_recall_score)\n",
    "fpr_knn, tpr_knn, thresholds_knn= metrics.roc_curve(yTest, y_KNN_pred)\n",
    "roc_auc_knn = auc(fpr_knn, tpr_knn)\n",
    "\n",
    "plt.plot(\n",
    "    fpr_knn,\n",
    "    tpr_knn,\n",
    "    color=\"orange\",\n",
    "    label=\"Knn ROC curve (area = %0.2f)\" % roc_auc_knn,\n",
    ")\n",
    "plt.plot([0, 1], [0, 1], color=\"navy\", linestyle=\"--\")\n",
    "plt.xlim([0.0, 1.0])\n",
    "plt.ylim([0.0, 1.05])\n",
    "plt.xlabel(\"False Positive Rate\")\n",
    "plt.ylabel(\"True Positive Rate\")\n",
    "plt.title(\"Roc curves\")\n",
    "plt.legend(loc=\"lower right\")\n",
    "plt.show()"
   ]
  },
  {
   "cell_type": "markdown",
   "id": "b4ce4bec",
   "metadata": {},
   "source": [
    "# Naive\n"
   ]
  },
  {
   "cell_type": "code",
   "execution_count": 11,
   "id": "3f3ce482",
   "metadata": {},
   "outputs": [
    {
     "name": "stdout",
     "output_type": "stream",
     "text": [
      "acc :  0.5202312138728323\n",
      "Confusion Metrics :  [[68 80]\n",
      " [ 3 22]]\n",
      "F1 Score :  0.3464566929133858\n"
     ]
    }
   ],
   "source": [
    "#Training Data and Predict without Cross Validation\n",
    "naive = GaussianNB()\n",
    "naive.fit(xTrain,yTrain)\n",
    "y_pred=naive.predict(xTest)\n",
    "naive_confusion_metrics = confusion_matrix(yTest,y_pred)\n",
    "naive_f1_score=f1_score(yTest,y_pred)\n",
    "print(\"acc : \",metrics.accuracy_score(yTest,y_pred))\n",
    "print(\"Confusion Metrics : \",naive_confusion_metrics)\n",
    "print(\"F1 Score : \",naive_f1_score)"
   ]
  },
  {
   "cell_type": "code",
   "execution_count": 12,
   "id": "b3be832e",
   "metadata": {},
   "outputs": [
    {
     "name": "stdout",
     "output_type": "stream",
     "text": [
      "[0.9375     0.9375     0.94117647 1.         1.        ]\n",
      "CrossV_scores mean:0.9632352941176471\n"
     ]
    }
   ],
   "source": [
    "#Cross Validation\n",
    "naive_CrossV = GaussianNB()\n",
    "naive_CrossV=cross_validate(naive_CrossV, xTrain, yTrain, cv=5,return_estimator=True,scoring='recall')\n",
    "print(naive_CrossV['test_score'])\n",
    "print('CrossV_scores mean:{}'.format(np.mean(naive_CrossV['test_score'])))\n"
   ]
  },
  {
   "cell_type": "code",
   "execution_count": 13,
   "id": "6c353443",
   "metadata": {},
   "outputs": [],
   "source": [
    "naive_opt_cv=naive_CrossV['estimator'][4]"
   ]
  },
  {
   "cell_type": "code",
   "execution_count": 14,
   "id": "2b63e38e",
   "metadata": {},
   "outputs": [
    {
     "name": "stdout",
     "output_type": "stream",
     "text": [
      "{'var_smoothing': 3.5111917342151273e-09}\n",
      "Best Score :  0.9632352941176471\n"
     ]
    }
   ],
   "source": [
    "#Hyperituning Model\n",
    "grid_nb = {'var_smoothing': np.logspace(0,-9, num=100)}\n",
    "naive_Optimal = GridSearchCV(naive_opt_cv,grid_nb, cv=5,scoring='recall')\n",
    "naive_Optimal.fit(xTrain, yTrain)\n",
    "print(naive_Optimal.best_params_)\n",
    "print(\"Best Score : \",naive_Optimal.best_score_)\n"
   ]
  },
  {
   "cell_type": "code",
   "execution_count": 15,
   "id": "60773079",
   "metadata": {},
   "outputs": [],
   "source": [
    "#Predict data \n",
    "y_NAIVE_pred=naive_Optimal.predict(xTest)"
   ]
  },
  {
   "cell_type": "code",
   "execution_count": 16,
   "id": "6ea2a4ef",
   "metadata": {},
   "outputs": [
    {
     "name": "stdout",
     "output_type": "stream",
     "text": [
      "acc :  0.5317919075144508\n",
      "Confusion Metrics :  [[71 77]\n",
      " [ 4 21]]\n",
      "F1 Score :  0.3414634146341463\n",
      "precision score :  0.21428571428571427\n",
      "Recall score :  0.84\n"
     ]
    },
    {
     "data": {
      "image/png": "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\n",
      "text/plain": [
       "<Figure size 432x288 with 1 Axes>"
      ]
     },
     "metadata": {
      "needs_background": "light"
     },
     "output_type": "display_data"
    }
   ],
   "source": [
    "#Metrics \n",
    "naive_confusion_metrics = confusion_matrix(yTest,y_NAIVE_pred)\n",
    "naive_f1_score=f1_score(yTest,y_NAIVE_pred)\n",
    "naive_acc=metrics.accuracy_score(yTest,y_NAIVE_pred)\n",
    "naive_precision_score=precision_score(yTest,y_NAIVE_pred)\n",
    "naive_recall_score=recall_score(yTest,y_NAIVE_pred)\n",
    "\n",
    "print(\"acc : \",naive_acc)\n",
    "print(\"Confusion Metrics : \",naive_confusion_metrics)\n",
    "print(\"F1 Score : \",naive_f1_score)\n",
    "print(\"precision score : \",naive_precision_score)\n",
    "print(\"Recall score : \",naive_recall_score)\n",
    "\n",
    "fpr_np, tpr_np, thresholds_np= metrics.roc_curve(yTest, y_NAIVE_pred)\n",
    "roc_auc_np = auc(fpr_np, tpr_np)\n",
    "plt.plot(\n",
    "    fpr_np,\n",
    "    tpr_np,\n",
    "    color=\"red\",\n",
    "    label=\"Naive ROC curve (area = %0.2f)\" % roc_auc_np,\n",
    ")\n",
    "\n",
    "plt.plot([0, 1], [0, 1], color=\"navy\", linestyle=\"--\")\n",
    "plt.xlim([0.0, 1.0])\n",
    "plt.ylim([0.0, 1.05])\n",
    "plt.xlabel(\"False Positive Rate\")\n",
    "plt.ylabel(\"True Positive Rate\")\n",
    "plt.title(\"Roc curves\")\n",
    "plt.legend(loc=\"lower right\")\n",
    "plt.show()"
   ]
  },
  {
   "cell_type": "markdown",
   "id": "f09eefbc",
   "metadata": {},
   "source": [
    "# Logistic Regression \n"
   ]
  },
  {
   "cell_type": "code",
   "execution_count": 17,
   "id": "9b6026c5",
   "metadata": {},
   "outputs": [],
   "source": [
    "from sklearn.linear_model import LogisticRegression"
   ]
  },
  {
   "cell_type": "code",
   "execution_count": 18,
   "id": "d67e4d49",
   "metadata": {},
   "outputs": [
    {
     "name": "stdout",
     "output_type": "stream",
     "text": [
      "acc :  0.930635838150289\n",
      "Confusion Metrics :  [[145   3]\n",
      " [  9  16]]\n",
      "F1 Score :  0.7272727272727272\n"
     ]
    }
   ],
   "source": [
    "#Training Data and Predict without Cross Validation\n",
    "logistic = LogisticRegression(random_state=0,solver='lbfgs', max_iter=1000)\n",
    "logistic.fit(xTrain,yTrain)\n",
    "y_pred=logistic.predict(xTest)\n",
    "logistic_confusion_metrics = confusion_matrix(yTest,y_pred)\n",
    "logistic_f1_score=f1_score(yTest,y_pred)\n",
    "print(\"acc : \",metrics.accuracy_score(yTest,y_pred))\n",
    "print(\"Confusion Metrics : \",logistic_confusion_metrics)\n",
    "print(\"F1 Score : \",logistic_f1_score)"
   ]
  },
  {
   "cell_type": "code",
   "execution_count": 19,
   "id": "c8b715cc",
   "metadata": {},
   "outputs": [
    {
     "name": "stdout",
     "output_type": "stream",
     "text": [
      "[0.625      0.4375     0.58823529 0.76470588 0.76470588]\n",
      "CrossV_scores mean:0.6360294117647058\n"
     ]
    }
   ],
   "source": [
    "#Cross Validation\n",
    "logistic_CrossV = LogisticRegression(random_state=0,solver='lbfgs', max_iter=1000000)\n",
    "logistic_CrossV=cross_validate(logistic_CrossV, xTrain, yTrain, cv=5,scoring='recall',return_estimator=True)\n",
    "print(logistic_CrossV['test_score'])\n",
    "print('CrossV_scores mean:{}'.format(np.mean(logistic_CrossV['test_score'])))"
   ]
  },
  {
   "cell_type": "code",
   "execution_count": 20,
   "id": "857da344",
   "metadata": {},
   "outputs": [],
   "source": [
    "logistic_opt_cv=logistic_CrossV['estimator'][4]\n"
   ]
  },
  {
   "cell_type": "code",
   "execution_count": 21,
   "id": "55d87261",
   "metadata": {},
   "outputs": [
    {
     "name": "stdout",
     "output_type": "stream",
     "text": [
      "{'C': 100, 'penalty': 'l2', 'solver': 'liblinear'}\n",
      "Best Score :  0.6485294117647059\n"
     ]
    }
   ],
   "source": [
    "#Hyprertuning parameters\n",
    "solvers = ['newton-cg', 'lbfgs', 'liblinear']\n",
    "penalty = ['l2']\n",
    "c_values = [1000,100, 10, 1.0, 0.1, 0.01,0.001]\n",
    "grid_log = dict(solver=solvers,penalty=penalty,C=c_values)\n",
    "logistic_opt = GridSearchCV(estimator=logistic_opt_cv, param_grid=grid_log, cv=5,scoring='recall')\n",
    "logistic_opt.fit(xTrain, yTrain)\n",
    "print(logistic_opt.best_params_)\n",
    "print(\"Best Score : \",logistic_opt.best_score_)\n"
   ]
  },
  {
   "cell_type": "code",
   "execution_count": 22,
   "id": "b300cdba",
   "metadata": {},
   "outputs": [],
   "source": [
    "#Predict data \n",
    "y_Logistic_pred=logistic_opt.predict(xTest)"
   ]
  },
  {
   "cell_type": "code",
   "execution_count": 23,
   "id": "c18fbcc0",
   "metadata": {},
   "outputs": [
    {
     "name": "stdout",
     "output_type": "stream",
     "text": [
      "acc :  0.930635838150289\n",
      "Confusion Metrics :  [[145   3]\n",
      " [  9  16]]\n",
      "F1 Score :  0.7272727272727272\n",
      "precision score :  0.8421052631578947\n",
      "Recall score :  0.64\n"
     ]
    },
    {
     "data": {
      "image/png": "iVBORw0KGgoAAAANSUhEUgAAAYoAAAEWCAYAAAB42tAoAAAAOXRFWHRTb2Z0d2FyZQBNYXRwbG90bGliIHZlcnNpb24zLjQuMywgaHR0cHM6Ly9tYXRwbG90bGliLm9yZy/MnkTPAAAACXBIWXMAAAsTAAALEwEAmpwYAAA8hElEQVR4nO3dd3hUZfbA8e8hAUKXrhCpQXpooQsEka5YQECwgAVQyqrIT0GFVXHVlUVQEGUB0RVFRREEpCkKivRepAoSEekQWiDJ+f1xJyGEkExCpiXn8zzzTLntzCXcM+89976vqCrGGGPMteTwdQDGGGP8myUKY4wxqbJEYYwxJlWWKIwxxqTKEoUxxphUWaIwxhiTKksUxhhjUmWJwmQpIrJPRM6LyBkROSQiU0Ukv6/jMiaQWaIwWdGdqpofqA3UAYb6NpyUiUiwr2Mwxh2WKEyWpaqHgAU4CQMAEekkIltF5KSI/CgiVZNMu1lEvhaRIyJyTETGpbReEQkSkWEiskdEokVkrWvZciKiSROAaxuPuV73EpFfRORtETkOvOqKo0aS+Yu7WkQlXO/vEJENrvmWi0h4knmfE5E/XTHsEJFWmbf3jLnMEoXJskQkFGgP7Ha9vwX4DHgKKA7MA74VkVwiEgTMAfYD5YDSwPRrrPoZ4H6gA1AQeAQ452ZYDYG9QAngFeBr17oSdAV+UtXDIlIXmAL0BYoCHwCzRSS3iFQGBgD1VbUA0BbY52YMxqSLJQqTFX0jItHAAeAwMML1eTdgrqouUtVLwCggD9AEaACUAoao6llVvaCqP19j/Y8BL6rqDnVsVNVjbsZ2UFXfVdVYVT0PfMqViaKH6zOAx4EPVHWlqsap6kdADNAIiANyA9VEJKeq7lPVPW7GYEy6WKIwWdHdrl/ZkUAVoJjr81I4LQYAVDUeJ5mUBm4G9qtqrBvrvxnI6EH5QLL3PwB5RKShiJTFOU020zWtLDDYddrppIicdG27lKruxmkZ/RM4LCLTRaRUBmMyJlWWKEyWpao/AVNxWg4AB3EOvgCIiOAceP/EOYCXcbPAfAComMLnZ13PeZN8dmPysJLFGA98gdOq6AHMUdXoJNt5TVVvSPLIq6qfuZb9VFVvdX0nBd50I3Zj0s0ShcnqxgCtRaQ2zgG5o4i0EpGcwGCcUznLgVXAX8AbIpJPREJEpOk11jkJpxBdSRzhIlJUVY/gJJ0HXAXvR0g5oST3Kc5psZ5cPu0E8F+gn6u1Ia64OopIARGpLCK3iUhu4AJwHud0lDGZzhKFydJcB++PgZdUdQfwAPAucBS4E+dS2ouqGud6Hwb8AUThHLxTMhon6SwETgOTcWod4NQVhgDHgOo4SSitGFfitEZKAd8l+XyNa33jgBM4Rflersm5gTdc3+MQTnF8WFrbMiYjxAYuMsYYkxprURhjjEmVJQpjjDGpskRhjDEmVZYojDHGpCrgOiUrVqyYlitXztdhGGNMQFm7du1RVS2ekWUDLlGUK1eONWvW+DoMY4wJKCKyP+25UmannowxxqTKEoUxxphUWaIwxhiTKksUxhhjUmWJwhhjTKosURhjjEmVxxKFiEwRkcMisuUa00VE3hGR3SKyyTXsozHGGD/jyRbFVKBdKtPbA5Vcjz7ABA/GYowx2VZ8/PUt77Eb7lR1qYiUS2WWu4CP1ennfIWI3CAiN6nqX56KyRhjsoPoaFi1CpYvhzlz9rFu3YrrWp8v78wuzZXjB0e5PrsqUYhIH5xWB2XKlPFKcMYYEwhUYf9+JyksXw6//AKbNkF8/FlgEbCRAgVuIDo6rTVdmy+L2ZLCZymOoqSqE1U1QlUjihfPUFclxhiTJVy8CCtXwujR0KULlC4N5ctDz57w0UdQrBi8+CI0bTqX4ODNDB16K4cOPXld2/RliyIKZ2D7BKHAQR/FYowxfunIkcutheXLYfVqiIlxppUvD7fdBk2aOA+RwxQrFkLp0gV58MHbiYmJpHr1Etcdgy8TxWxggIhMBxoCp6w+YYzJzuLjYdu2KxPDrl3OtJw5oV496N/fSQqNG0OpUs60s2cv8uqrS/nPf36lZ8+aTJ16N2FhRTItLo8lChH5DIgEiolIFDACyAmgqu8D84AOOAPGnwN6eyoWY4zxR0mLzsuXw6+/wqlTzrTixZ2E8NhjznNEBISEXL2OuXN30r//PPbvP8Ujj9TmzTdbZ3qcnrzq6f40pivQ31PbN8YYf3LtojOIQPXq0K0bNG3qJIaKFZ3PU/Pee6vp338e1aoVZ+nSXjRrVtYjsQfceBTGGBMILl6E9eudhJCQHP5ynVzPnx8aNXKKzk2aQMOGcMMN7q03NjaeI0fOctNNBejatTrnz19i4MCG5MoV5LHvYonCGGMyQXqKzjVqQHAGjr6rVv1J375zCA7OwYoVj1KsWF4GD26SuV8kBZYojDEmnTJadM6okycvMGzY97z//hpuuqkAY8e2I0eONM5LZSJLFMYYk4bMKDpn1ObNf9O69f84cuQcgwY15JVXWlKwYO7M24AbLFEYY0wSnig6Z8SlS3HkzBnELbcUpWXL8gwZ0oS6dW/K/A25wRKFMSZbSyg6JySF5EXnhg0zVnTOqJiYWN588xc++WQT69b1JX/+XHz2WWfPbjQNliiMMdmKN4rOGfXDD7/zxBNz2bnzGN26VScmJpb8+XN5L4BrsERhjMmyvF10zqjz5y/Rp88cPvlkExUqFGb+/J60bRvmm2BSYInCGJNl+LLofD1CQoI5evQcL77YjGHDmpEnT05fh3QFSxTGmIDkbtG5SROn8OyponNGbdr0N0OGLGLy5E6EhhZk7tweXr3kNT0sURhjAoK/FZ0z6uzZi/zznz/y9tsrKFw4D7t2HSM0tKDfJgmwRGGM8VNHjjinjhKSwpo1cOGCM83XReeMmj17BwMHfscff5zi8cfr8sYbt1OkSB5fh5WmANi1xpiszp2i85NP+r7ofL2++eY3ChbMzc8/96Zp08AZrdMShTHG6wK16Jxely7F8c47K2nZsjx1697E2LHtCAkJJmdOz3Xg5wmWKIwxHpW86Lx8OWzcGDhF54xasSKKvn3nsGnT3zz3XFPq1r2JAgW82/VGZrFEYYzJVFml6JxRJ06cZ+jQ75k4cS2lSxdk5sxu3HVXZV+HdV0sURhjrktqRedy5QKz6Hw9Jk5cy6RJ63j66Ub885+RAduKSEqcgeYCR0REhK5Zs8bXYRiTLblTdE5ICoFcdE6vHTuOcuTIOW69tQwxMbHs2HGM8PCSvg7rCiKyVlUjMrJsFs/txpjrkV2Kzhl14UIsr7++jDfe+IUqVYqxYUNfcucO9rskcb0sURhjgOxbdM6oRYv28OST89i9+zg9etTkP/9pg2TRHWKJwphsKmnROeFx8KAzLTsUna/H0qX7adPmEypVKsKiRQ9y++0VfB2SR1miMCabSKvo3LJl9io6p1dcXDzbth2hZs2SNGtWhsmTO9GjR01CQrL+jsr639CYbCg+HrZvv5wUsuqdzt6yfv1f9Os3l+3bj7Br10BKlszPI4/U8XVYXmOJwpgswIrOnhEdHcOIET8yduxKihXLy4QJHSlRIp+vw/I6SxTGBBgrOnvHqVMXqFlzAgcOnKZv33q8/norChf2/w78PMEShTF+zp2i8wsvOEnBis7X7/TpGAoWzE2hQiH06VOPVq3K07jxzb4Oy6csURjjZ6zo7BuXLsXx9tsrGDlyKT/+2Iu6dW/ixReb+zosv2B/Ysb4kBWd/cMvv/xBv35z2bLlMHffXYXixfP6OiS/YonCGC+yorP/GThwHuPGrebmmwsya1Z3OnUK7A78PMEShTEeYkVn/6WqiXdR33hjfp59tjEjRkSSP38uH0fmn6xTQGMyiTtF54SkYEVn3/ntt6P06zeHp59uxF13VfF1OF5jnQIa4wMJReeEcRes6Ozfzp+/xL/+tYw33/yFfPlycf58rK9DChge/dMVkXbAWCAImKSqbySbXgj4BCjjimWUqn7oyZiMyQgrOge277/fS9++c9iz5wQPPhjOqFFtsuWNcxnlsUQhIkHAeKA1EAWsFpHZqrotyWz9gW2qeqeIFAd2iMg0Vb3oqbiMcceZM7BypXtF53r1IE/2vA8rYERFnSY4OAfff/8Qt91W3tfhBBxPtigaALtVdS+AiEwH7gKSJgoFCohTVcoPHAesPWi8yorOWU9cXDzvv7+GXLmCePzxejz0UC26d69B7tx2/i8jPLnXSgMHkryPAhomm2ccMBs4CBQAuqlqfPIViUgfoA9AmTJlPBKsyT5SKzrnyweNGtmdzoFs3bq/6Nt3DmvWHKRz56o8/ng9RMSSxHXw5J5L6TdX8kus2gIbgNuAisAiEVmmqqevWEh1IjARnKueMj9Uk5VZ0Tl7OH06hpde+oFx41ZTvHhePvusM926Vfd1WFmCJ/9LRAFJO0gJxWk5JNUbeEOda3R3i8jvQBVglQfjMllYQtE5ISlY0Tn72LjxEOPGraZfv3q89lorbrjB7lbMLJ5MFKuBSiJSHvgT6A70SDbPH0ArYJmIlAQqA3s9GJPJYqzonL39/vsJlizZxyOP1KFZs7Ls3j2Q8uUL+zqsLMdjiUJVY0VkALAA5/LYKaq6VUT6uaa/D7wKTBWRzTinqp5T1aOeiskENis6mwQXL8bxn/8s55VXlhISEsw991ShcOE8liQ8xO7MNn7LnaKz3emc/Sxbtp9+/eaybdsR7r23KmPHtiM0tKCvw/J7dme2yRKs6GzScuTIWdq0+YSSJfPx7bf3c8cdt/g6pGzB/qsZn7Cis3GXqrJ48V5at65I8eL5mDPnfho1CiVfPuvAz1ssURivOHPG6V47ISlY0dm4Y+vWwzzxxFyWLfuDJUseJjKyHK1aVfB1WNmOJQqT6dJTdG7SBMLCrOhsrnTu3CVGjlzKW28tp2DB3EyadCfNm5f1dVjZliUKc93sTmeTmVSVli0/YtWqP3n44Vq89VZrihe3Dvx8yRKFSbekRefly2H1ais6m+v311/RlCiRj6CgHAwbdiuFCoUQGVnO12EZLFGYNFjR2XhaXFw848ev5sUXf+C1125j4MCG2WpAoUBgicJcwYrOxpvWrDlI375zWLfuL9q2rUiHDpV8HZJJgduJQkTyqepZTwZjvEsV/vjjysF4rOhsvOXf//6F559fzI035ufzz7tw333VEsexNv4lzUQhIk2ASTjjRZQRkVpAX1V90tPBmcxlRWfja6pKbGw8OXMG0aBBafr3r8/IkbdRqJB14OfP3GlRvI3THfhsAFXdKCLNPRqVyRRpFZ0jI52kYEVn4w179hznySfnUaNGcf7zn7ZERpazYnWAcOvQoKoHkjUJ4zwTjskoKzobfxUTE8tbby3ntdeWkTNnDu66q7KvQzLp5E6iOOA6/aQikgsYBGz3bFgmLVZ0NoFg7dqDPPDATH777Sj33VeNMWPaUapUAV+HZdLJnUTRDxiLM7RpFLAQsPqEF1nR2QSq/PlzIQLz5vWgfXu7oilQuZMoKqtqz6QfiEhT4BfPhGSs6GwCVXy88uGH6/n11ygmTepE5crF2LLlSXLksF8ugcydRPEuUNeNz0wGWdHZZAVbthymX785/PLLAZo3L8vZsxfJly+XJYks4JqHHBFpDDQBiovIM0kmFcQZsc5kQNKic0Lh2YrOJpCdPXuRV175idGjV1CoUG4+/PAuHn64lt0TkYWk9ts0F869E8FA0urTaaCLJ4PKSqzobLK6Cxdi+fDDDTz0UDj//ndrihbN6+uQTCZLcyhUESmrqvu9FE+a/Hko1ISic9JLVJMXnRMKzlZ0NoEsKuo077yzktdfb0VQUA6OHz9PkSL2K8efeXoo1HMi8hZQHUi8fVJVb8vIBrMSd4vOTZo4r63obAJdbGw87767kuHDfyQuLp5u3apTr14pSxJZnDuJYhrwOXAHzqWyDwNHPBmUv7Kis8nOVq6Mom/fOWzc+DcdOlRi3Lj2lC9f2NdhGS9w51BWVFUni8g/VPUn4CcR+cnTgfla8qLz8uWwc6czLWdOqFvXis4m+4iPV3r3nsWpUzHMmHEf995b1YrV2Yg7ieKS6/kvEekIHARCPReSbyQUnRPqCytWwMmTzrSEovOjj1rR2WQfqsqMGdto1y6MAgVy8/XX3ShdugAFCuT2dWjGy9xJFCNFpBAwGOf+iYLAU54MytPcKTp37WpFZ5N97dp1jP7957Fo0V5GjWrN4MFNqFKlmK/DMj6SZqJQ1Tmul6eAlpB4Z3bAuHgRNmy4sgsMKzobc7WYmFjefPMX/vWvZeTOHcy4ce3p1y9DF8qYLCS1G+6CgK44fTzNV9UtInIHMAzIA9TxTojpZ0VnYzKmf/95TJ68nu7dazB6dBtuusk68DOp3EchIlOBm4FVQENgP9AYeF5Vv/FSfFe51n0Uy5bBlCkpF50TkoIVnY252uHDZ4mPV268MT+7dh1j794TtG0b5uuwTCbz1H0UEUC4qsaLSAhwFAhT1UMZ2ZCnPf+8U2e4/XYrOhvjjvh4ZdKkdTz33GLatKnI5593oVKlolSqVNTXoRk/k1qiuKiq8QCqekFEdvprkgDnCqW2beGrr3wdiTH+b9Omv+nXbw6//hpFZGQ5Xn450tchGT+WWqKoIiKbXK8FqOh6L4CqarjHo0uH6GgoYKdTjUnTjBnb6N59BoUL5+Hjj+/mgQfC7Z4Ik6rUEkVVr0WRCaKjoWBBX0dhjP86fTqGggVzExlZjv796zNiRKR1vWHccs1E4U8dAaZF1VoUxlzLH3+cYuDA7zh4MJoVKx6lWLG8jB3b3tdhmQCSw5MrF5F2IrJDRHaLyPPXmCdSRDaIyNaMdg1y4QLExVmiMCapS5fiGDVqOVWrjmfx4r107VqNNDqLNiZFHruDwHUfxnigNc5Y26tFZLaqbksyzw3Ae0A7Vf1DREpkZFvR0c6zJQpjHPv3n6RTp+ls2vQ3d955C+++256yZW/wdVgmQLmVKEQkD1BGVXekY90NgN2qute1junAXcC2JPP0AL5W1T8AVPVwOtafyBKFMQ5VRUS48cb8lCyZj5kzu3HXXZWtWG2uS5qnnkTkTmADMN/1vraIzHZj3aWBA0neR7k+S+oWoLCI/Cgia0XkIbeiTsYShcnuVJVPPtlE/fr/5cyZi+TOHczChQ9y991VLEmY6+ZOjeKfOK2DkwCqugEo58ZyKf11Jj9DGgzUAzoCbYGXROSWq1Yk0kdE1ojImiNHrh4K4/Rp59kShcmOduw4SqtWH/PggzMJDs7BsWPnfB2SyWLcSRSxqnoqA+uOwukCJEEoThflyeeZr6pnVfUosBSolXxFqjpRVSNUNaJ48eJXbchaFCY7io2NZ8SIJYSHv8+6dX8xYUJHli9/1GoRJtO5kyi2iEgPIEhEKonIu8ByN5ZbDVQSkfIikgvoDiQ/ZTULaCYiwSKSF6dPqe3piB+wRGGyp6AgYdmyP+jSpRo7dgygX78IcuSw00wm87mTKAbijJcdA3yK0934U2ktpKqxwABgAc7B/wtV3Soi/USkn2ue7Ti1j004nQ9OUtUt6f0SlihMdnHo0BkeeWQWBw6cQkSYN68n06bdS8mS+X0dmsnC3LnqqbKqvgC8kN6Vq+o8YF6yz95P9v4t4K30rjuphERhd2abrCouLp6JE9cydOj3nD8fS/v2Ydx8cyFCQqyPfON57vyVjRaRm4AvgemqutXDMaVbQqLIbz+qTBa0fv1f9Os3l1Wr/qRVq/K8915HbrnFeng13uPOCHctReRGnEGMJopIQeBzVR3p8ejcFB0NefNCUJCvIzEm840bt4p9+04ybdq93H9/Dbvc1XidW114qOohVX0H6IdzT8VwTwaVXtbPk8lKVJWZM7ezfv1fAIwa1YbffutPjx41LUkYn3DnhruqIvJPEdkCjMO54inU45GlgyUKk1Xs2+d0vXHvvV8wZsxKAAoXzkPhwtbLq/Edd2oUHwKfAW1UNfl9EH7h9GlLFCawXboUx+jRv/Lyyz+RI4cwalRr/vGPRr4OyxjAvRqF3/+1WovCBLoPPljL889/z913V2Hs2HaUKVPI1yEZk+iaiUJEvlDVriKymSu73vC7Ee6io6FUKV9HYUz6HDt2jn37TlKvXikef7wuYWFFaNcuzNdhGXOV1FoU/3A93+GNQK6HtShMIFFVPv54I88+u4gCBXKxc+dAcucOtiRh/NY1i9mq+pfr5ZOquj/pA3jSO+G5x4ZBNYFi+/YjtGz5Eb16zaJSpSJ88013goM9On6YMdfNnb/Q1il85lfjKFqLwgSCjRsPUavW+2za9DcTJ97Bzz8/Qnh4SV+HZUyaUqtRPIHTcqggIpuSTCoA/OLpwNwVFwfnzlmiMP4rKuo0oaEFCQ8vycsvR/Loo3UpUSKfr8Myxm2p1Sg+Bb4DXgeSjncdrarHPRpVOpw54zxbojD+5uDBaJ5+egHz5u3it9/6U7p0QYYObebrsIxJt9QSharqPhHpn3yCiBTxl2RhPccafxMXF8+ECWt44YUfiImJ5YUXmlGsWF5fh2VMhqXVorgDWItzeWzSvgMUqODBuNxmo9sZf3LhQizNm3/I6tUHad26Au+915GwsCK+DsuY63LNRKGqd7iey3svnPSzFoXxB5cuxZEzZxAhIcG0bFmOZ55pTLdu1a1vJpMluNPXU1MRyed6/YCIjBaRMp4PzT2WKIwvqSozZmwjLOxd1q1zrih/883WdO9uvbyarMOdy2MnAOdEpBbwf8B+4H8ejSodLFEYX9m79wQdO37Kffd9SdGieWwYUpNluZMoYlVVgbuAsao6FucSWb9go9sZXxg9+leqV3+PZcv+YMyYtqxa9Ti1a9/o67CM8Qh3eo+NFpGhwINAMxEJAnJ6Niz3WYvC+MKZMxfp0KESY8e2IzTUfqWYrM2dFkU3IAZ4RFUPAaW5zjGuM5MlCuMNR4+eo3fvWcyevQOAF19szldfdbUkYbKFNBOFKzlMAwqJyB3ABVX92OORuSk62hkCNSTE15GYrCg+XpkyZT2VK4/jk082sXu3c/uQ1SNMduLOVU9dgVXAfTjjZq8UkS6eDsxdCf082QUmJrNt23aEyMipPProbKpVK86GDX155pnGvg7LGK9zp0bxAlBfVQ8DiEhxYDEww5OBuctGtzOesmbNQbZuPcLkyZ3o1au2tSJMtuVOosiRkCRcjuFebcMrrOdYk5nmzdvFsWPnePDBWjz4YDh33HELRYrYeNUme3PngD9fRBaISC8R6QXMBeZ5Niz3WaIwmSEq6jRdunxBx46fMm7calQVEbEkYQzujZk9RETuBW7F6e9poqrO9HhkbrJEYa5HbGw848ev4sUXlxAbG89rr93Gs882sbuqjUkitfEoKgGjgIrAZuBZVf3TW4G5y8bLNtdj7dqDPPXUAtq1C2P8+A5UqFDY1yEZ43dSO/U0BZgDdMbpQfZdr0SUTtaiMOl16tQFvv56OwANG4aycuVjzJvXw5KEMdeQ2qmnAqr6X9frHSKyzhsBpZclCuMuVeWLL7by1FMLOHbsHPv2PUWpUgVo0KC0r0Mzxq+llihCRKQOl8ehyJP0var6PHGoWqIw7tmz5zj9+89jwYI91Kt3E99+ez+lStkfjjHuSC1R/AWMTvL+UJL3CtzmqaDcFRMDsbGWKEzqoqNjqFdvIvHxyjvvtOPJJ+sTFOQ3V3gb4/dSG7iopTcDyQjr58mkZtOmvwkPL0mBArmZPLkTjRqFUrq09c1kTHoF9M8qGwbVpOTIkbM8/PA31Kr1PvPm7QKgc+dqliSMySCPJgoRaSciO0Rkt4g8n8p89UUkLr19SFmLwiQVH69MmrSOypXH8dlnmxk27FYiI8v5OixjAp47XXhkiGvcivFAayAKWC0is1V1WwrzvQksSO82LFGYpDp3/oJvvvmN5s3LMmFCR6pVK+7rkIzJEtJMFOLcotoTqKCqr7jGy75RVVelsWgDYLeq7nWtZzrOKHnbks03EPgKqJ/e4G10O3P27EVy5w4mODgH999fg7vvrsxDD9WyO6uNyUTunHp6D2gM3O96H43TUkhLaeBAkvdRrs8SiUhp4B7g/dRWJCJ9RGSNiKw5cuRI4ufWosjevv12B9Wqvcd7760GoGvX6jz8cG1LEsZkMncSRUNV7Q9cAFDVE0AuN5ZL6X+rJns/BnhOVeNSW5GqTlTVCFWNKF788ukESxTZ04EDp7j33s/p1Gk6BQrkol69m3wdkjFZmjs1ikuuOoJC4ngU8W4sFwXcnOR9KHAw2TwRwHTXL8BiQAcRiVXVb9xYvyWKbOiTTzbRr98c4uOVN95oxdNPNyZXriBfh2VMluZOongHmAmUEJHXgC7Ai24stxqoJCLlgT+B7kCPpDOoavmE1yIyFZjjbpKAy4kif353lzCBKqHb79DQgkRGluPdd9tTvrz1zWSMN7jTzfg0EVkLtMI5nXS3qm53Y7lYERmAczVTEDBFVbeKSD/X9FTrEu6IjoY8eSDYY9duGV87efICQ4cuJl++XIwa1YbIyHJ2yasxXubOVU9lgHPAt0k/U9U/0lpWVeeRbJCjayUIVe2V1vqSs2FQsy5V5bPPtvDMMws4cuQcTz/dKLFVYYzxLnd+i8/FqU8IEAKUB3YA1T0Yl1usQ8Cs6fffT9CnzxwWL95L/fql+O67ntSpYwVrY3zFnVNPNZO+F5G6QF+PRZQOliiypkuX4tm06W/Gj+9A3771rAM/Y3ws3Wf3VXWdiKT75jhPsESRdXz//V7mzt3F6NFtueWWouzf/xQhIVZ8MsYfuFOjeCbJ2xxAXeDINWb3quhouMnOSAS0v/8+w+DBC5k2bTMVKxbmhReaUbRoXksSxvgRd9r0BZI8cuPULO7yZFDushZF4IqPVz74YA1Vqozniy+28tJLzdm8+QmKFs3r69CMMcmk+rPNdaNdflUd4qV40sUSReA6deoCL764hNq1b2TChI5UqVLM1yEZY67hmi0KEQl2da1R14vxpIslisBy5sxFRo/+lbi4eAoXzsPKlY/xww8PWZIwxs+l1qJYhZMkNojIbOBL4GzCRFX92sOxpSouDs6etUQRKGbN+o2BA7/jwIHT1K59I7fdVp4KFezOamMCgTsVwyLAMZwxshPup1DAp4nizBnn2RKFf9u//ySDBs1n9uwd1KxZgunTu9Ckyc1pL2iM8RupJYoSriuetnA5QSRI3gus11mHgP5PVenS5Uu2bTvCv/99O0891YicOa0DP2MCTWqJIgjIj3vdhXudJQr/tWJFFNWrF6dAgdxMnHgHRYrkoWzZG3wdljEmg1JLFH+p6iteiySdLFH4n+PHzzN06GImTlzH8OHNefnlltb1hjFZQGqJwq97X7NhUP2HqvLJJ5sYPHghx4+fZ/DgxgwZ0tTXYRljMklqiaKV16LIAGtR+I9hw77njTd+oVGjUBYt6kitWjf6OiRjTCa6ZqJQ1ePeDCS9LFH41oULsZw5c5FixfLSu3cdypa9gT596pEjh183RI0xGRCw3XJaovCdRYv2ULPmBB5/3Bmi5JZbitKvX4QlCWOyKEsUxm2HDp2hR4+vaNPmE0RgwAC/6ETYGONhAdtF5+nTkCOHMxSq8bwlS37nnns+5/z5WP75zxY899yt1sOrMdlEwP5PT+jnyUbG9KxLl+LImTOI8PCStG5dkddeu41bbinq67CMMV4U0Kee7LST50RHx/D00/Np1uxD4uLiKVo0L19+eZ8lCWOyIUsU5gqqytdfb6dq1fGMHbuSOnVuJCYmztdhGWN8KKBPPdnNdpnr6NFz9Or1DXPn7qJWrZLMmNGVRo1CfR2WMcbHAjpRWIsicxUokIu//z7L6NFtGDiwIcHBAdvgNMZkooA9EliiyBw///wH7dtP48yZi+TOHczKlY/x9NONLUkYYxIF7NHAEsX1OXbsHI89NptmzT5k27Yj7N17AsBumjPGXMVOPWUzqspHH23k2WcXcvLkBYYMacKIES3Ily+Xr0MzxvipgEwUqs4Nd5YoMubjjzdSuXIx3n+/IzVrlvR1OMYYPxeQiSImBmJjLVG46/z5S7zxxs88/ng9QkML8tVXXSlUKMROMxlj3BKQicL6eXLfggW7efLJeezde4ISJfLRv38DChe2fk+MMe6zRJFFHTwYzdNPL+CLL7ZSuXJRfvjhIVq2LO/rsIwxASigE4XdcHdtI0cuZdas33jllUj+7/+akjt3QP5TG2P8QEAePaxFkbK1aw8mduD36qsteeaZxoSFFfF1WMaYAOfR+yhEpJ2I7BCR3SLyfArTe4rIJtdjuYjUcme9liiudPp0DIMGfUeDBpMYNux7AIoWzWtJwhiTKTzWohCRIGA80BqIAlaLyGxV3ZZktt+BFqp6QkTaAxOBhmmt2xKFQ1WZMWMb//jHfA4dOsOTT9Zn5MjbfB2WMSaL8eSppwbAblXdCyAi04G7gMREoarLk8y/AnCrBzpLFI5PP93MAw/MpE6dG5k1qzv165f2dUjGmCzIk4miNHAgyfsoUm8tPAp8l9IEEekD9AEoU6YMp087n2fHRHHxYhx7956gSpVidOlSjfPnY+nVq7b1zWSM8RhPHl1SuptLU5xRpCVOongupemqOlFVI1Q1onjx4tm2RbF06X5q136fNm3+x4ULseTOHcxjj9W1JGGM8ShPHmGigJuTvA8FDiafSUTCgUnAXap6zJ0VR0dDSAgEB+Q1W+l39Og5eveeRYsWUzl/Ppb337/Dxqs2xniNJ482q4FKIlIe+BPoDvRIOoOIlAG+Bh5U1Z3urjg7dQi4d+8J6tf/L6dPx/D880156aUW5M2b09dhGWOyEY8lClWNFZEBwAIgCJiiqltFpJ9r+vvAcKAo8J6IAMSqakRa684OieL06RgKFsxN+fI30Lt3bXr1qk2NGiV8HZYxJhsS1RTLBn4rIiJCS5Vaw4EDsH69r6PJfOfOXeLVV39i4sR1bNzYj9BQu/3cGHP9RGStOz/EUxKQJ7qzaoti7tydDBjwHfv2naR379rkyROQ/zzGmCwmII9E0dFQMgsNoxAbG8/993/FjBnbqFq1GD/91Ivmzcv6OixjjAECOFGEhfk6iuunqogIwcE5KFkyH//6120MHtyEXLmCfB2aMcYkCsgL8LPC6HarV/9Jw4aTWLfuLwDGjevA0KHNLEkYY/xOQCaKQK5RnDp1gQED5tGw4SSiok5z7Ng5X4dkjDGpCshTT2fPBmai+PLLrQwaNJ/Dh88yYEADRo68jYIFc/s6LGOMSVXAJYq4OOc5EBPF9u1HKV26AN9+ez8REaV8HY4xxrgl4E49xcc7z4GQKGJiYhk5cinffrsDgKFDb2XlyscsSRhjAkrAJYqEFoW/D4O6ZMnv1Kr1Pi+9tITvv/8dgJw5gwgKCrhdbozJ5uzUUyY7fPgsQ4Ys4uOPN1KhQmG++64n7dplgWt5jTHZVsAlCn8/9bRw4R4++2wzL7zQjBdeaEaePNaBnzEmsAVcovDHFsXmzX+zY8cxunSpRs+eNWnS5GYqVCjs67CMMSZTBNwJc39KFGfPXuT//m8Rdep8wP/93yIuXYpDRCxJGGOylIBrUfjLqadvv93BgAHf8ccfp3j00Tq8+ebt5Mxpd1V7y6VLl4iKiuLChQu+DsUYvxISEkJoaCg5c2beae+ASxT+0KLYsuUwnTpNp3r14ixb1ptbby3ju2CyqaioKAoUKEC5cuVwjWViTLanqhw7doyoqCjKly+faesNyFNPOXJA3rze3W5sbDw//rgPgBo1SjBnzv2sX9/XkoSPXLhwgaJFi1qSMCYJEaFo0aKZ3tIOuEQRHw/584M3jw8rV0YRETGRVq0+ZtcuZ1jvjh1vsVNNPmZJwpireeL/RcAlirg4791sd+LEeZ54Yg6NG0/m6NFzfPnlfYSFFfHOxo0xxk8EXKKIj/dOfSImJpY6dT5g4sR1PPVUI7Zv78+991a1X7EmUf78+a97HWvWrGHQoEHXnL5v3z4+/fRTt+dPLjIyksqVK1OrVi3q16/Phg0bEqedOnWKhx56iIoVK1KxYkUeeughTp06lTh9586ddOjQgbCwMKpWrUrXrl35+++/0/cFPez8+fO0aNGCuITipR96/fXXCQsLo3LlyixYsCDFeTZs2ECjRo2oXbs2ERERrFq1CoBjx47RsmVL8ufPz4ABA65Y5vbbb+fEiRMejx9wih+B9ChYsJ42aKAeExV1KvH1hx+u13XrDnpuYybDtm3b5usQNF++fB7fxpIlS7Rjx44ZXr5Fixa6evVqVVWdMmWK3n777YnTOnfurCNGjEh8P3z4cO3SpYuqqp4/f17DwsJ09uzZidN/+OEH3bx5c4ZjSe7SpUvXvY5x48bpmDFj3J4/Pj5e4+Lirnu77tq6dauGh4frhQsXdO/evVqhQgWNjY29ar7WrVvrvHnzVFV17ty52qJFC1VVPXPmjC5btkwnTJig/fv3v2KZqVOn6siRI1Pcbkr/P4A1msHjbsC1KOLiPNOiuHAhlpdf/pEKFd5h1qzfAOjVqzZ16tyU+RszmeqppyAyMnMfTz2VsVgSfhmGh4dzzz33JP7iW716NeHh4TRu3JghQ4ZQo0YNAH788UfuuOMOAH766Sdq165N7dq1qVOnDtHR0Tz//PMsW7aM2rVr8/bbb18x/5kzZ+jduzc1a9YkPDycr776KtXYGjduzJ9//gnA7t27Wbt2LS+99FLi9OHDh7NmzRr27NnDp59+SuPGjbnzzjsTp7ds2TIx7qT+/e9/U7NmTWrVqsXzzz8POC2ZNWvWAHD06FHKlSsHwNSpU7nvvvu48847adOmDd26dWPevHmJ6+rVqxdfffUVcXFxDBkyhPr16xMeHs4HH3yQ4neaNm0ad911V+L+aNWqFXXr1qVmzZrMmjULcFplVatW5cknn6Ru3bocOHCAt956K3HdI0aMSFzf3XffTb169ahevToTJ05MdX+6Y9asWXTv3p3cuXNTvnx5wsLCElsLSYkIp0+fBpyWXqlSTseh+fLl49ZbbyUkJOSqZTp16sRnn3123TG6IyAvj83sRPH993t54om57Np1nPvvr0HDhqGZuwGTbTz00EO8++67tGjRguHDh/Pyyy8zZswYevfuzcSJE2nSpEniwTS5UaNGMX78eJo2bcqZM2cICQnhjTfeYNSoUcyZMwdwEkuCV199lUKFCrF582aANE9DzJ8/n7vvvhuAbdu2Ubt2bYKCLl+QERQURO3atdm6dStbtmyhXr16aX7f7777jm+++YaVK1eSN29ejh8/nuYyv/76K5s2baJIkSLMnDmTzz//nA4dOnDx4kW+//57JkyYwOTJkylUqBCrV68mJiaGpk2b0qZNmysu+bx48SJ79+5NTEIhISHMnDmTggULcvToURo1akSnTp0A2LFjBx9++CHvvfceCxcuZNeuXaxatQpVpVOnTixdupTmzZszZcoUihQpwvnz56lfvz6dO3emaNGiV8T/9NNPs2TJkqu+V/fu3a/6t/3zzz9p1KhR4vvQ0NDEZJ3UmDFjaNu2Lc8++yzx8fEsX748zf1YuHBhYmJiOHbs2FUxZraASxSZXaN46qn5jB27krCwIixc+ACtW1fMvJUbrxgzxtcROE6dOsXJkydp0aIFAA8//DD33XcfJ0+eJDo6miZNmgDQo0ePxAN/Uk2bNuWZZ56hZ8+e3HvvvYSGpv6DZfHixUyfPj3xfeHCKfcI0LNnT86ePUtcXBzr1q0DLo/Xnty1Pk8tht69e5PXdb16kSJpX+zRunXrxPnat2/PoEGDiImJYf78+TRv3pw8efKwcOFCNm3axIwZMwBn3+7ateuKRHH06FFuuOGGK2IfNmwYS5cuJUeOHPz555+JNZWyZcsmHrAXLlzIwoULqVOnDuC0RHbt2kXz5s155513mDlzJgAHDhxg165dVx2E3377bbf3j3PG50op7d8JEybw9ttv07lzZ7744gseffRRFi9enOb6S5QowcGDBy1RJJcZLYr4eOe8W1BQDho0KM3w4c0ZOrQZISEBtztMAEjpYJGS559/no4dOzJv3jwaNWqU5oHC3YP6tGnTEk8L9e/fn6+//prq1auzfv164uPjyZHDOQMdHx/Pxo0bqVq1KocPH+ann35y67ulFENwcDDxrm4Ukl/Tny9fvsTXISEhREZGsmDBAj7//HPuv//+xPW+++67tG3b9prbzpMnzxXrnjZtGkeOHGHt2rXkzJmTcuXKJU5Puk1VZejQofTt2/eK9f34448sXryYX3/9lbx58xIZGZni/QjpaVGEhoZy4MCBxPdRUVGJp5WS+uijjxg7diwA9913H4899tg1v3dSFy5cIE+ePG7Nez0CrkZxvS2KjRsP0aTJZMaPXw1Ajx41efnllpYkzHUrVKgQhQsXZtmyZQD873//o0WLFhQuXJgCBQqwYsUKgCtaAUnt2bOHmjVr8txzzxEREcFvv/1GgQIFiI6OTnH+Nm3aMG7cuMT3qZ16ypkzJyNHjmTFihVs376dsLAw6tSpw8iRIxPnGTlyJHXr1iUsLIwePXqwfPly5s6dmzh9/vz5iae5ksYwZcoUzp1zxn5POPVUrlw51q5dC5DYKriW7t278+GHH7Js2bLExNC2bVsmTJjApUuXAOcKrLNnz16xXOHChYmLi0s8mJ86dYoSJUqQM2dOlixZwv79+1PcXtu2bZkyZQpnzpwBnNNDhw8f5tSpUxQuXJi8efPy22+/Jf57Jff222+zYcOGqx4pnVLs1KkT06dPJyYmht9//51du3bRoEGDq+YrVapUYmL+4YcfqFSpUqr7DJyEd+jQocRTb54UcIlCNWOJ4syZiwwevIB69Sayd+8Jbrzx+i9tNNnbuXPnCA0NTXyMHj2ajz76iCFDhhAeHs6GDRsYPnw4AJMnT6ZPnz40btwYVaVQoUJXrW/MmDHUqFGDWrVqkSdPHtq3b094eDjBwcHUqlXrqlMeL774IidOnEhcJqVfuUnlyZOHwYMHM2rUqMSYdu7cSVhYGBUrVmTnzp1Mnjw5cd45c+bw7rvvUqlSJapVq8bUqVMpUaLEFets164dnTp1IiIigtq1ayeu+9lnn2XChAk0adKEo0ePphpXmzZtWLp0Kbfffju5cuUC4LHHHqNatWrUrVuXGjVq0LdvX2JjY1Nc9ueffwacU2xr1qwhIiKCadOmUaVKlWtur0ePHjRu3JiaNWvSpUsXoqOjadeuHbGxsYSHh/PSSy9dUVvIqOrVq9O1a1eqVatGu3btGD9+fGJd6LHHHkss+P/3v/9l8ODB1KpVi2HDhl1RSC9XrhzPPPMMU6dOJTQ0lG3btgGwdu1aGjVqRHCwF37kZvRyKV89oJ6+806KV4Rd06JFezQ0dLTCP7VPn9l6/Pi59K3A+B1/uDw2PaKjoxNfv/766zpo0CAfRpN1rFu3Th944AFfh+ETgwYN0sWLF6c4LbMvjw3I8y3pbVHkyhVEkSJ5+PzzLjRpcrNngjImFXPnzuX1118nNjaWsmXLMnXqVF+HlCXUqVOHli1bEhcXd8UVXNlBjRo1aNWqlVe2Jepmoc1fiETojBlr6Nz52vNcuhTHmDErOHUqhpEjbwOcAnaOHHZXdVaxfft2qlat6uswjPFLKf3/EJG1qhqRkfVluRbF8uUH6NdvDps3H+bee6smJghLElmPpvNSTmOyA0/8+A+4YjaknCiOHz9Pnz7f0rTpFE6evMA333Tjq6+6WoLIokJCQjh27JhH/lMYE6hUnfEoUrqT+3pkmRbFsWPn+PTTzTz7bGNGjIgkf/5c3g/MeE1oaChRUVEcOXLE16EY41cSRrjLTAFZo9i3bw1ly8KOHUf5/POtDB/u3Al77Ng5ihb18ohGxhgTAK6nRuHRU08i0k5EdojIbhG56m4Ucbzjmr5JROq6s97g4EsMH76E8PD3efvtFRw44HSNbEnCGGMyn8dOPYlIEDAeaA1EAatFZLaqbksyW3ugkuvREJjgek5FDC1aTGDPnhP07FmT//ynDSVL2s1zxhjjKZ6sUTQAdqvqXgARmQ7cBSRNFHcBH7tuBlkhIjeIyE2q+te1V3uCHDmExYsfpFWrCp6L3hhjDODZRFEaOJDkfRRXtxZSmqc0cEWiEJE+QB/X25hduwZtuf1290f5ysKKAan3j5B92L64zPbFZbYvLquc0QU9mShSui41eeXcnXlQ1YnARAARWZPRgkxWY/viMtsXl9m+uMz2xWUisiajy3qymB0FJO0vIxQ4mIF5jDHG+JAnE8VqoJKIlBeRXEB3YHayeWYDD7mufmoEnEq9PmGMMcbbPHbqSVVjRWQAsAAIAqao6lYR6eea/j4wD+gA7AbOAb3dWPX1D2Sbddi+uMz2xWW2Ly6zfXFZhvdFwN1wZ4wxxrsCsq8nY4wx3mOJwhhjTKr8NlF4qvuPQOTGvujp2gebRGS5iNTyRZzekNa+SDJffRGJE5Eu3ozPm9zZFyISKSIbRGSriPzk7Ri9xY3/I4VE5FsR2ejaF+7UQwOOiEwRkcMisuUa0zN23Mzo0HiefOAUv/cAFYBcwEagWrJ5OgDf4dyL0QhY6eu4fbgvmgCFXa/bZ+d9kWS+H3Auluji67h9+HdxA05PCGVc70v4Om4f7othwJuu18WB40AuX8fugX3RHKgLbLnG9AwdN/21RZHY/YeqXgQSuv9IKrH7D1VdAdwgIjd5O1AvSHNfqOpyVT3hersC536UrMidvwuAgcBXwGFvBudl7uyLHsDXqvoHgKpm1f3hzr5QoIA4I13lx0kUsd4N0/NUdSnOd7uWDB03/TVRXKtrj/TOkxWk93s+ivOLIStKc1+ISGngHuB9L8blC+78XdwCFBaRH0VkrYg85LXovMudfTEOqIpzQ+9m4B+qGu+d8PxKho6b/jpwUaZ1/5EFuP09RaQlTqK41aMR+Y47+2IM8JyqxmXxYVLd2RfBQD2gFZAH+FVEVqjqTk8H52Xu7Iu2wAbgNqAisEhElqnqaQ/H5m8ydNz010Rh3X9c5tb3FJFwYBLQXlWPeSk2b3NnX0QA011JohjQQURiVfUbr0ToPe7+HzmqqmeBsyKyFKgFZLVE4c6+6A28oc6J+t0i8jtQBVjlnRD9RoaOm/566sm6/7gszX0hImWAr4EHs+CvxaTS3BeqWl5Vy6lqOWAG8GQWTBLg3v+RWUAzEQkWkbw4vTdv93Kc3uDOvvgDp2WFiJTE6Ul1r1ej9A8ZOm76ZYtCPdf9R8Bxc18MB4oC77l+ScdqFuwx0819kS24sy9UdbuIzAc2AfHAJFVN8bLJQObm38WrwFQR2Yxz+uU5Vc1y3Y+LyGdAJFBMRKKAEUBOuL7jpnXhYYwxJlX+eurJGGOMn7BEYYwxJlWWKIwxxqTKEoUxxphUWaIwxhiTKksUxi+5en7dkORRLpV5z2TC9qaKyO+uba0TkcYZWMckEanmej0s2bTl1xujaz0J+2WLqzfUG9KYv7aIdMiMbZvsyy6PNX5JRM6oav7MnjeVdUwF5qjqDBFpA4xS1fDrWN91x5TWekXkI2Cnqr6Wyvy9gAhVHZDZsZjsw1oUJiCISH4R+d71a3+ziFzVa6yI3CQiS5P84m7m+ryNiPzqWvZLEUnrAL4UCHMt+4xrXVtE5CnXZ/lEZK5rbIMtItLN9fmPIhIhIm8AeVxxTHNNO+N6/jzpL3xXS6aziASJyFsislqccQL6urFbfsXVoZuINBBnLJL1rufKrruUXwG6uWLp5op9ims761Paj8Zcxdf9p9vDHik9gDicTtw2ADNxehEo6JpWDOfO0oQW8RnX82DgBdfrIKCAa96lQD7X588Bw1PY3lRcY1cA9wErcTrU2wzkw+maeitQB+gM/DfJsoVczz/i/HpPjCnJPAkx3gN85HqdC6cnzzxAH+BF1+e5gTVA+RTiPJPk+30JtHO9LwgEu17fDnzlet0LGJdk+X8BD7he34DT71M+X/9728O/H37ZhYcxwHlVrZ3wRkRyAv8SkeY43VGUBkoCh5IssxqY4pr3G1XdICItgGrAL67uTXLh/BJPyVsi8iJwBKcX3lbATHU61UNEvgaaAfOBUSLyJs7pqmXp+F7fAe+ISG6gHbBUVc+7TneFy+UR+QoBlYDfky2fR0Q2AOWAtcCiJPN/JCKVcHoDzXmN7bcBOonIs673IUAZsmYfUCaTWKIwgaInzshk9VT1kojswznIJVLVpa5E0hH4n4i8BZwAFqnq/W5sY4iqzkh4IyK3pzSTqu4UkXo4fea8LiILVfUVd76Eql4QkR9xur3uBnyWsDlgoKouSGMV51W1togUAuYA/YF3cPoyWqKq97gK/z9eY3kBOqvqDnfiNQasRmECRyHgsCtJtATKJp9BRMq65vkvMBlnSMgVQFMRSag55BWRW9zc5lLgbtcy+XBOGy0TkVLAOVX9BBjl2k5yl1wtm5RMx+mMrRlOR3a4np9IWEZEbnFtM0WqegoYBDzrWqYQ8Kdrcq8ks0bjnIJLsAAYKK7mlYjUudY2jElgicIEimlAhIiswWld/JbCPJHABhFZj1NHGKuqR3AOnJ+JyCacxFHFnQ2q6jqc2sUqnJrFJFVdD9QEVrlOAb0AjExh8YnApoRidjILccY2XqzO0J3gjCWyDVgnIluAD0ijxe+KZSNOt9r/xmnd/IJTv0iwBKiWUMzGaXnkdMW2xfXemFTZ5bHGGGNSZS0KY4wxqbJEYYwxJlWWKIwxxqTKEoUxxphUWaIwxhiTKksUxhhjUmWJwhhjTKr+H+TJO1rLGTugAAAAAElFTkSuQmCC\n",
      "text/plain": [
       "<Figure size 432x288 with 1 Axes>"
      ]
     },
     "metadata": {
      "needs_background": "light"
     },
     "output_type": "display_data"
    }
   ],
   "source": [
    "#Metrics \n",
    "logistic_confusion_metrics = confusion_matrix(yTest,y_Logistic_pred)\n",
    "logistic_f1_score=f1_score(yTest,y_Logistic_pred)\n",
    "logistic_acc=metrics.accuracy_score(yTest,y_Logistic_pred)\n",
    "logistic_precision_score=precision_score(yTest,y_Logistic_pred)\n",
    "logistic_recall_score=recall_score(yTest,y_Logistic_pred)\n",
    "print(\"acc : \",logistic_acc)\n",
    "print(\"Confusion Metrics : \",logistic_confusion_metrics)\n",
    "print(\"F1 Score : \",logistic_f1_score)\n",
    "print(\"precision score : \",logistic_precision_score)\n",
    "print(\"Recall score : \",logistic_recall_score)\n",
    "fpr_log, tpr_log, thresholds_log= metrics.roc_curve(yTest, y_Logistic_pred)\n",
    "roc_auc_log = auc(fpr_log, tpr_log)\n",
    "plt.plot(\n",
    "    fpr_log,\n",
    "    tpr_log,\n",
    "    color=\"blue\",\n",
    "    label=\"Logistic ROC curve (area = %0.2f)\" % roc_auc_log,\n",
    ")\n",
    "\n",
    "plt.plot([0, 1], [0, 1], color=\"navy\", linestyle=\"--\")\n",
    "plt.xlim([0.0, 1.0])\n",
    "plt.ylim([0.0, 1.05])\n",
    "plt.xlabel(\"False Positive Rate\")\n",
    "plt.ylabel(\"True Positive Rate\")\n",
    "plt.title(\"Roc curves\")\n",
    "plt.legend(loc=\"lower right\")\n",
    "plt.show()"
   ]
  },
  {
   "cell_type": "markdown",
   "id": "75eb34e3",
   "metadata": {},
   "source": [
    "# ROC-AUC Curve"
   ]
  },
  {
   "cell_type": "code",
   "execution_count": 24,
   "id": "26f4cbfd",
   "metadata": {
    "scrolled": true
   },
   "outputs": [
    {
     "data": {
      "image/png": "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\n",
      "text/plain": [
       "<Figure size 432x288 with 1 Axes>"
      ]
     },
     "metadata": {
      "needs_background": "light"
     },
     "output_type": "display_data"
    }
   ],
   "source": [
    "\n",
    "plt.figure()\n",
    "lw = 2\n",
    "\n",
    "plt.plot(\n",
    "    fpr_log,\n",
    "    tpr_log,\n",
    "    color=\"blue\",\n",
    "    lw=lw,\n",
    "    label=\"Logistic ROC curve (area = %0.2f)\" % roc_auc_log,\n",
    ")\n",
    "\n",
    "plt.plot(\n",
    "    fpr_np,\n",
    "    tpr_np,\n",
    "    color=\"red\",\n",
    "    lw=lw,\n",
    "    label=\"Naive ROC curve (area = %0.2f)\" % roc_auc_np,\n",
    ")\n",
    "\n",
    "plt.plot(\n",
    "    fpr_knn,\n",
    "    tpr_knn,\n",
    "    color=\"orange\",\n",
    "    lw=lw,\n",
    "    label=\"Knn ROC curve (area = %0.2f)\" % roc_auc_knn,\n",
    ")\n",
    "plt.plot([0, 1], [0, 1], color=\"navy\", lw=lw, linestyle=\"--\")\n",
    "plt.xlim([0.0, 1.0])\n",
    "plt.ylim([0.0, 1.05])\n",
    "plt.xlabel(\"False Positive Rate\")\n",
    "plt.ylabel(\"True Positive Rate\")\n",
    "plt.title(\"Roc curves\")\n",
    "plt.legend(loc=\"lower right\")\n",
    "plt.show()"
   ]
  },
  {
   "cell_type": "code",
   "execution_count": null,
   "id": "2cab0350",
   "metadata": {},
   "outputs": [],
   "source": []
  },
  {
   "cell_type": "code",
   "execution_count": null,
   "id": "b2e71dd1",
   "metadata": {},
   "outputs": [],
   "source": []
  }
 ],
 "metadata": {
  "kernelspec": {
   "display_name": "Python 3 (ipykernel)",
   "language": "python",
   "name": "python3"
  },
  "language_info": {
   "codemirror_mode": {
    "name": "ipython",
    "version": 3
   },
   "file_extension": ".py",
   "mimetype": "text/x-python",
   "name": "python",
   "nbconvert_exporter": "python",
   "pygments_lexer": "ipython3",
   "version": "3.9.7"
  }
 },
 "nbformat": 4,
 "nbformat_minor": 5
}
